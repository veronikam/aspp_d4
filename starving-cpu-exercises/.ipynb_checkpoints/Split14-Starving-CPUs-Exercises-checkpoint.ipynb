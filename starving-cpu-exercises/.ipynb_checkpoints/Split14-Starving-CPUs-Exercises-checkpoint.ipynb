{
 "metadata": {
  "name": "",
  "signature": "sha256:55f43dd9698079f5790ed50dfea8e37ff3643838a1570ecee933da89927b06bc"
 },
 "nbformat": 3,
 "nbformat_minor": 0,
 "worksheets": [
  {
   "cells": [
    {
     "cell_type": "markdown",
     "metadata": {},
     "source": [
      "# Exercises"
     ]
    },
    {
     "cell_type": "code",
     "collapsed": false,
     "input": [
      "!hostname; lscpu"
     ],
     "language": "python",
     "metadata": {},
     "outputs": [
      {
       "output_type": "stream",
       "stream": "stdout",
       "text": [
        "sgi01\r\n"
       ]
      },
      {
       "output_type": "stream",
       "stream": "stdout",
       "text": [
        "Architecture:          x86_64\r\n",
        "CPU op-mode(s):        32-bit, 64-bit\r\n",
        "Byte Order:            Little Endian\r\n",
        "CPU(s):                48\r\n",
        "On-line CPU(s) list:   0-47\r\n",
        "Thread(s) per core:    1\r\n",
        "Core(s) per socket:    6\r\n",
        "Socket(s):             8\r\n",
        "NUMA node(s):          8\r\n",
        "Vendor ID:             GenuineIntel\r\n",
        "CPU family:            6\r\n",
        "Model:                 46\r\n",
        "Stepping:              6\r\n",
        "CPU MHz:               1064.000\r\n",
        "BogoMIPS:              5334.32\r\n",
        "Virtualization:        VT-x\r\n",
        "L1d cache:             32K\r\n",
        "L1i cache:             32K\r\n",
        "L2 cache:              256K\r\n",
        "L3 cache:              18432K\r\n",
        "NUMA node0 CPU(s):     0-5\r\n",
        "NUMA node1 CPU(s):     6-11\r\n",
        "NUMA node2 CPU(s):     12-17\r\n",
        "NUMA node3 CPU(s):     18-23\r\n",
        "NUMA node4 CPU(s):     24-29\r\n",
        "NUMA node5 CPU(s):     30-35\r\n",
        "NUMA node6 CPU(s):     36-41\r\n",
        "NUMA node7 CPU(s):     42-47\r\n"
       ]
      }
     ],
     "prompt_number": 3
    },
    {
     "cell_type": "code",
     "collapsed": false,
     "input": [
      "# Load basic packages for numerical operations and plotting\n",
      "%matplotlib inline\n",
      "import matplotlib.pyplot as plt\n",
      "import numpy as np\n",
      "from time import time"
     ],
     "language": "python",
     "metadata": {},
     "outputs": [],
     "prompt_number": 4
    },
    {
     "cell_type": "markdown",
     "metadata": {},
     "source": [
      "# The Blocking Technique"
     ]
    },
    {
     "cell_type": "markdown",
     "metadata": {},
     "source": [
      "## Exercise 1: Exercising the blocking technique"
     ]
    },
    {
     "cell_type": "markdown",
     "metadata": {},
     "source": [
      "Take your time to understand the code below and then run it below"
     ]
    },
    {
     "cell_type": "code",
     "collapsed": false,
     "input": [
      "#######################################################################\n",
      "# This code snippet exercises the blocking tecnique for finding an \n",
      "# optimal blocksize for your processor.\n",
      "#\n",
      "# Author: Stefan van der Walt\n",
      "# Adapted by: Francesc Alted\n",
      "# Date: 2014-09-10\n",
      "#######################################################################\n",
      "\n",
      "N = 5*1000*1000\n",
      "x = np.linspace(1, 10, N)\n",
      " \n",
      "def raw():\n",
      "    \"\"\"Straight-forward NumPy evaluation of polynomial.\n",
      " \n",
      "    \"\"\"\n",
      "    return (((.25 * x) + .75) * x - 1.5) * x - 2\n",
      " \n",
      "def inplace(block_size=20000):\n",
      "    \"\"\"Blocked evaluation of polynomial.\n",
      " \n",
      "    \"\"\"\n",
      "    y = np.empty(len(x))\n",
      "    for k in range(len(x) // block_size + 1):\n",
      "        b, e = k * block_size, (k+1) * block_size\n",
      "        y[b:e] = x[b:e]\n",
      "        y[b:e] *= .25\n",
      "        y[b:e] += .75\n",
      "        y[b:e] *= x[b:e]\n",
      "        y[b:e] -= 1.5\n",
      "        y[b:e] *= x[b:e]\n",
      "        y[b:e] -= 2\n",
      " \n",
      "    return y\n",
      " \n",
      "def bench():\n",
      "    \"\"\"Illustrate CPU vs memory trade-off.\n",
      " \n",
      "    Break up a computation in chunks and benchmark. Small blocks fit\n",
      "    into cache easily, but the NumPy overhead and the outer Python\n",
      "    for-loop takes longer to execute.  With large blocks, the overhead\n",
      "    for NumPy and the for-loop is negligible, but the blocks no longer\n",
      "    fit into cache, resulting in delays.\n",
      " \n",
      "    Returns\n",
      "    -------\n",
      "    block_sizes : list\n",
      "        Size of the different data chunks.\n",
      "    times : list\n",
      "        Execution times.\n",
      " \n",
      "    \"\"\"\n",
      "    times = []\n",
      "    blocks = np.round(np.logspace(3, 6, num=50))\n",
      "    for b in blocks:\n",
      "        t0 = time()\n",
      "        inplace(block_size=int(b))\n",
      "        times.append(time()-t0)\n",
      "        #print 'Block size: %d  Execution time: %.3f s' % (b, times[-1])\n",
      "\n",
      "    return blocks, times"
     ],
     "language": "python",
     "metadata": {},
     "outputs": [],
     "prompt_number": 5
    },
    {
     "cell_type": "code",
     "collapsed": false,
     "input": [
      "np.logspace?\n"
     ],
     "language": "python",
     "metadata": {},
     "outputs": [],
     "prompt_number": 7
    },
    {
     "cell_type": "code",
     "collapsed": false,
     "input": [
      "# NumPy raw computation\n",
      "t0 = time()\n",
      "raw()\n",
      "traw = time() - t0\n",
      "print 'Execution time for raw NumPy calculation: %.2f' % (traw,)"
     ],
     "language": "python",
     "metadata": {},
     "outputs": [
      {
       "output_type": "stream",
       "stream": "stdout",
       "text": [
        "Execution time for raw NumPy calculation: 0.24\n"
       ]
      }
     ],
     "prompt_number": 12
    },
    {
     "cell_type": "code",
     "collapsed": false,
     "input": [
      "# NumPy blocked computation\n",
      "blocks, times = bench()\n",
      "import matplotlib.pyplot as plt\n",
      "plt.semilogx(blocks, times, 'o-')\n",
      "plt.xlabel('Block size [b]')\n",
      "plt.ylabel('Execution time [s]')\n",
      "plt.title('CPU vs Memory Benchmark')\n",
      "plt.show()"
     ],
     "language": "python",
     "metadata": {},
     "outputs": [
      {
       "metadata": {},
       "output_type": "display_data",
       "png": "[encoded data removed]",
       "text": [
        "<matplotlib.figure.Figure at 0x7fb8f4a7e890>"
       ]
      }
     ],
     "prompt_number": 8
    },
    {
     "cell_type": "code",
     "collapsed": false,
     "input": [
      "times[37]"
     ],
     "language": "python",
     "metadata": {},
     "outputs": [
      {
       "metadata": {},
       "output_type": "pyout",
       "prompt_number": 26,
       "text": [
        "0.06367206573486328"
       ]
      }
     ],
     "prompt_number": 26
    },
    {
     "cell_type": "markdown",
     "metadata": {},
     "source": [
      "#- Which is the minimal blocksize that provides fastest performance?\n",
      "#- Why do you think this minimum exist?\n"
     ]
    },
    {
     "cell_type": "markdown",
     "metadata": {},
     "source": [
      "## Exercise 2: Exercising numexpr"
     ]
    },
    {
     "cell_type": "markdown",
     "metadata": {},
     "source": [
      "Check the time to execute the next polynomial:\n",
      "\n",
      "$ y = .25x^3 + .75x^2 - 1.5x - 2 $\n",
      "\n",
      "in the range [-1, 1] with 10 million points"
     ]
    },
    {
     "cell_type": "code",
     "collapsed": false,
     "input": [
      "x = np.linspace(-1, 1, 5e6)\n",
      "# Using NumPy\n",
      "%time y = .25*x**3 + .75*x**2 - 1.5*x - 2\n",
      "%time y = .25*x*x*x + .75*x*x - 1.5*x - 2"
     ],
     "language": "python",
     "metadata": {},
     "outputs": [
      {
       "output_type": "stream",
       "stream": "stdout",
       "text": [
        "CPU times: user 652 ms, sys: 164 ms, total: 816 ms\n",
        "Wall time: 820 ms\n",
        "CPU times: user 144 ms, sys: 184 ms, total: 328 ms"
       ]
      },
      {
       "output_type": "stream",
       "stream": "stdout",
       "text": [
        "\n",
        "Wall time: 329 ms\n"
       ]
      }
     ],
     "prompt_number": 31
    },
    {
     "cell_type": "code",
     "collapsed": false,
     "input": [
      "# Using numexpr\n",
      "import numexpr\n",
      "numexpr.set_num_threads(1)  # do not use multithreading by default\n",
      "%time y2 = numexpr.evaluate(\".25*x**3 + .75*x**2 - 1.5*x - 2\")\n",
      "# Check that results are equal (if this does not raise an exception you are safe :)\n",
      "np.testing.assert_allclose(y, y2)\n",
      "\n"
     ],
     "language": "python",
     "metadata": {},
     "outputs": [
      {
       "output_type": "stream",
       "stream": "stdout",
       "text": [
        "CPU times: user 40 ms, sys: 44 ms, total: 84 ms\n",
        "Wall time: 80.4 ms\n"
       ]
      }
     ],
     "prompt_number": 32
    },
    {
     "cell_type": "code",
     "collapsed": false,
     "input": [
      "676/140."
     ],
     "language": "python",
     "metadata": {},
     "outputs": [
      {
       "metadata": {},
       "output_type": "pyout",
       "prompt_number": 20,
       "text": [
        "4.828571428571428"
       ]
      }
     ],
     "prompt_number": 20
    },
    {
     "cell_type": "markdown",
     "metadata": {},
     "source": [
      "- Which is the speed up that you are seeing?  Why do you think it is so large?\n",
      "\n",
      "*Hint:* numexpr replaces ``x**3`` by ``x*x*x``.  Why the former is faster than the latter?"
     ]
    },
    {
     "cell_type": "code",
     "collapsed": false,
     "input": [
      "# Exercise 3: Optimizing expressions"
     ],
     "language": "python",
     "metadata": {},
     "outputs": [],
     "prompt_number": 10
    },
    {
     "cell_type": "markdown",
     "metadata": {},
     "source": [
      "The expression:\n",
      "\n",
      "$ y = ((.25x + .75)x - 1.5)x - 2 $\n",
      "\n",
      "represents the same polynomial than the original one, but with some interesting side-effects in efficiency."
     ]
    },
    {
     "cell_type": "code",
     "collapsed": false,
     "input": [
      "# NumPy\n",
      "%time y = ((.25*x + .75)*x - 1.5)*x - 2"
     ],
     "language": "python",
     "metadata": {},
     "outputs": [
      {
       "output_type": "stream",
       "stream": "stdout",
       "text": [
        "CPU times: user 152 ms, sys: 264 ms, total: 416 ms\n",
        "Wall time: 410 ms\n"
       ]
      }
     ],
     "prompt_number": 21
    },
    {
     "cell_type": "code",
     "collapsed": false,
     "input": [
      "# Numexpr\n",
      "%time y = numexpr.evaluate('((.25*x + .75)*x - 1.5)*x - 2')"
     ],
     "language": "python",
     "metadata": {},
     "outputs": [
      {
       "output_type": "stream",
       "stream": "stdout",
       "text": [
        "CPU times: user 80 ms, sys: 52 ms, total: 132 ms\n",
        "Wall time: 128 ms\n"
       ]
      }
     ],
     "prompt_number": 22
    },
    {
     "cell_type": "markdown",
     "metadata": {},
     "source": [
      "- Why do you think numpy is doing much more efficiently with this\n",
      "     new expression?\n",
      "\n",
      "- Why the speed-up in numexpr is not so high in comparison?\n",
      "\n",
      "- Why numexpr continues to be faster than numpy?"
     ]
    },
    {
     "cell_type": "markdown",
     "metadata": {},
     "source": [
      "# Exercise 4: Comparison with Cython code"
     ]
    },
    {
     "cell_type": "code",
     "collapsed": false,
     "input": [
      "%load_ext cythonmagic"
     ],
     "language": "python",
     "metadata": {},
     "outputs": [],
     "prompt_number": 23
    },
    {
     "cell_type": "code",
     "collapsed": false,
     "input": [
      "%%cython\n",
      "import numpy as np\n",
      "import cython\n",
      "\n",
      "@cython.boundscheck(False)\n",
      "@cython.wraparound(False)\n",
      "def my_poly(double[:] x):\n",
      "    cdef double[:] out = np.empty_like(x)\n",
      "    cdef int i\n",
      "\n",
      "    for i in range(len(x)):\n",
      "        #out[i] = ((.25*x[i] + .75)*x[i] - 1.5)*x[i] - 2\n",
      "        out[i] = x[i]\n",
      "    return np.asarray(out)"
     ],
     "language": "python",
     "metadata": {},
     "outputs": [],
     "prompt_number": 37
    },
    {
     "cell_type": "code",
     "collapsed": false,
     "input": [
      "%time y2 = my_poly(x)\n",
      "np.testing.assert_allclose(y, y2)"
     ],
     "language": "python",
     "metadata": {},
     "outputs": [
      {
       "output_type": "stream",
       "stream": "stdout",
       "text": [
        "CPU times: user 28 ms, sys: 24 ms, total: 52 ms\n",
        "Wall time: 51.4 ms\n"
       ]
      },
      {
       "ename": "AssertionError",
       "evalue": "\nNot equal to tolerance rtol=1e-07, atol=0\n\n(mismatch 100.0%)\n x: array([  0.00000000e+00,  -9.00000180e-07,  -1.80000036e-06, ...,\n        -2.50000060e+00,  -2.50000030e+00,  -2.50000000e+00])\n y: array([-1.       , -0.9999996, -0.9999992, ...,  0.9999992,  0.9999996,  1.       ])",
       "output_type": "pyerr",
       "traceback": [
        "\u001b[1;31m---------------------------------------------------------------------------\u001b[0m\n\u001b[1;31mAssertionError\u001b[0m                            Traceback (most recent call last)",
        "\u001b[1;32m<ipython-input-38-3114ce8120da>\u001b[0m in \u001b[0;36m<module>\u001b[1;34m()\u001b[0m\n\u001b[0;32m      1\u001b[0m \u001b[0mget_ipython\u001b[0m\u001b[1;33m(\u001b[0m\u001b[1;33m)\u001b[0m\u001b[1;33m.\u001b[0m\u001b[0mmagic\u001b[0m\u001b[1;33m(\u001b[0m\u001b[1;34mu'time y2 = my_poly(x)'\u001b[0m\u001b[1;33m)\u001b[0m\u001b[1;33m\u001b[0m\u001b[0m\n\u001b[1;32m----> 2\u001b[1;33m \u001b[0mnp\u001b[0m\u001b[1;33m.\u001b[0m\u001b[0mtesting\u001b[0m\u001b[1;33m.\u001b[0m\u001b[0massert_allclose\u001b[0m\u001b[1;33m(\u001b[0m\u001b[0my\u001b[0m\u001b[1;33m,\u001b[0m \u001b[0my2\u001b[0m\u001b[1;33m)\u001b[0m\u001b[1;33m\u001b[0m\u001b[0m\n\u001b[0m",
        "\u001b[1;32m/home/francesc/anaconda/lib/python2.7/site-packages/numpy/testing/utils.pyc\u001b[0m in \u001b[0;36massert_allclose\u001b[1;34m(actual, desired, rtol, atol, err_msg, verbose)\u001b[0m\n\u001b[0;32m   1181\u001b[0m     \u001b[0mheader\u001b[0m \u001b[1;33m=\u001b[0m \u001b[1;34m'Not equal to tolerance rtol=%g, atol=%g'\u001b[0m \u001b[1;33m%\u001b[0m \u001b[1;33m(\u001b[0m\u001b[0mrtol\u001b[0m\u001b[1;33m,\u001b[0m \u001b[0matol\u001b[0m\u001b[1;33m)\u001b[0m\u001b[1;33m\u001b[0m\u001b[0m\n\u001b[0;32m   1182\u001b[0m     assert_array_compare(compare, actual, desired, err_msg=str(err_msg),\n\u001b[1;32m-> 1183\u001b[1;33m                          verbose=verbose, header=header)\n\u001b[0m\u001b[0;32m   1184\u001b[0m \u001b[1;33m\u001b[0m\u001b[0m\n\u001b[0;32m   1185\u001b[0m \u001b[1;32mdef\u001b[0m \u001b[0massert_array_almost_equal_nulp\u001b[0m\u001b[1;33m(\u001b[0m\u001b[0mx\u001b[0m\u001b[1;33m,\u001b[0m \u001b[0my\u001b[0m\u001b[1;33m,\u001b[0m \u001b[0mnulp\u001b[0m\u001b[1;33m=\u001b[0m\u001b[1;36m1\u001b[0m\u001b[1;33m)\u001b[0m\u001b[1;33m:\u001b[0m\u001b[1;33m\u001b[0m\u001b[0m\n",
        "\u001b[1;32m/home/francesc/anaconda/lib/python2.7/site-packages/numpy/testing/utils.pyc\u001b[0m in \u001b[0;36massert_array_compare\u001b[1;34m(comparison, x, y, err_msg, verbose, header)\u001b[0m\n\u001b[0;32m    642\u001b[0m                                 names=('x', 'y'))\n\u001b[0;32m    643\u001b[0m             \u001b[1;32mif\u001b[0m \u001b[1;32mnot\u001b[0m \u001b[0mcond\u001b[0m \u001b[1;33m:\u001b[0m\u001b[1;33m\u001b[0m\u001b[0m\n\u001b[1;32m--> 644\u001b[1;33m                 \u001b[1;32mraise\u001b[0m \u001b[0mAssertionError\u001b[0m\u001b[1;33m(\u001b[0m\u001b[0mmsg\u001b[0m\u001b[1;33m)\u001b[0m\u001b[1;33m\u001b[0m\u001b[0m\n\u001b[0m\u001b[0;32m    645\u001b[0m     \u001b[1;32mexcept\u001b[0m \u001b[0mValueError\u001b[0m \u001b[1;32mas\u001b[0m \u001b[0me\u001b[0m\u001b[1;33m:\u001b[0m\u001b[1;33m\u001b[0m\u001b[0m\n\u001b[0;32m    646\u001b[0m         \u001b[1;32mimport\u001b[0m \u001b[0mtraceback\u001b[0m\u001b[1;33m\u001b[0m\u001b[0m\n",
        "\u001b[1;31mAssertionError\u001b[0m: \nNot equal to tolerance rtol=1e-07, atol=0\n\n(mismatch 100.0%)\n x: array([  0.00000000e+00,  -9.00000180e-07,  -1.80000036e-06, ...,\n        -2.50000060e+00,  -2.50000030e+00,  -2.50000000e+00])\n y: array([-1.       , -0.9999996, -0.9999992, ...,  0.9999992,  0.9999996,  1.       ])"
       ]
      }
     ],
     "prompt_number": 38
    },
    {
     "cell_type": "code",
     "collapsed": false,
     "input": [
      "trawnum = 0.24\n"
     ],
     "language": "python",
     "metadata": {},
     "outputs": []
    },
    {
     "cell_type": "markdown",
     "metadata": {},
     "source": [
      "- How the performance compares with other approaches?\n",
      "- Which bandwidth do you think your machine is providing?\n",
      "- Do you think you can get more performance than this?"
     ]
    },
    {
     "cell_type": "markdown",
     "metadata": {},
     "source": [
      "## Exercise 5: Getting parallel with multithreading"
     ]
    },
    {
     "cell_type": "markdown",
     "metadata": {},
     "source": [
      "numexpr does have support for using several threads at the same time:"
     ]
    },
    {
     "cell_type": "code",
     "collapsed": false,
     "input": [
      "netimes = []\n",
      "nthreads = 16      # replace 4 by the number of threads you want\n",
      "for i in range(nthreads):\n",
      "    numexpr.set_num_threads(i+1)\n",
      "    t0 = time()\n",
      "    y = numexpr.evaluate('((.25*x + .75)*x - 1.5)*x - 2')\n",
      "    netimes.append(round(time()-t0, 3))\n",
      "print netimes"
     ],
     "language": "python",
     "metadata": {},
     "outputs": [
      {
       "output_type": "stream",
       "stream": "stdout",
       "text": [
        "[0.061, 0.04, 0.033, 0.03, 0.029, 0.023, 0.024, 0.022, 0.023, 0.027, 0.024, 0.024, 0.024, 0.029, 0.026, 0.029]\n"
       ]
      }
     ],
     "prompt_number": 35
    },
    {
     "cell_type": "code",
     "collapsed": false,
     "input": [
      "# plot bars\n",
      "bar_labels = [str(i+1) for i in range(nthreads)]\n",
      "plt.xlabel('number of threads')\n",
      "plt.ylabel('time')\n",
      "y_pos = np.arange(nthreads)\n",
      "plt.xticks(y_pos, bar_labels, fontsize=14)\n",
      "bars = plt.bar(y_pos, netimes, align='center')"
     ],
     "language": "python",
     "metadata": {},
     "outputs": [
      {
       "metadata": {},
       "output_type": "display_data",
       "png": "[encoded data removed]",
       "text": [
        "<matplotlib.figure.Figure at 0x7fb8ede1fb90>"
       ]
      }
     ],
     "prompt_number": 36
    },
    {
     "cell_type": "markdown",
     "metadata": {},
     "source": [
      "- How the efficiency scales?\n",
      "- Why do you think it scales that way?\n",
      "- How performance compares with the Cython computation?"
     ]
    },
    {
     "cell_type": "markdown",
     "metadata": {},
     "source": [
      "# Exercise 6: Guessing the memory bandwidth"
     ]
    },
    {
     "cell_type": "markdown",
     "metadata": {},
     "source": [
      "We have seen that copy is an expensive operation.  Let's try to measure which part of the computation is due to memory copies.\n",
      "\n",
      "For this, let's do a simple copy of the `x` vector:"
     ]
    },
    {
     "cell_type": "code",
     "collapsed": false,
     "input": [
      "memtimes = []\n",
      "for i in range(nthreads):\n",
      "    numexpr.set_num_threads(i+1)\n",
      "    t0 = time()\n",
      "    y = numexpr.evaluate('x')\n",
      "    memtimes.append(round(time()-t0, 3))\n",
      "print memtimes"
     ],
     "language": "python",
     "metadata": {},
     "outputs": [
      {
       "output_type": "stream",
       "stream": "stdout",
       "text": [
        "[0.05, 0.028, 0.031, 0.024, 0.022, 0.022, 0.025, 0.022, 0.026, 0.024, 0.027, 0.023, 0.023, 0.023, 0.024, 0.024]\n"
       ]
      }
     ],
     "prompt_number": 39
    },
    {
     "cell_type": "code",
     "collapsed": false,
     "input": [
      "# plot bars\n",
      "bar_labels = [str(i+1) for i in range(nthreads)]\n",
      "plt.xlabel('number of threads')\n",
      "plt.ylabel('time')\n",
      "y_pos = np.arange(nthreads)\n",
      "plt.xticks(y_pos, bar_labels, fontsize=14)\n",
      "bars = plt.bar(y_pos, netimes, align='center', alpha=0.5, color='b')\n",
      "bars = plt.bar(y_pos, memtimes, align='center', alpha=0.5, color='g')"
     ],
     "language": "python",
     "metadata": {},
     "outputs": [
      {
       "metadata": {},
       "output_type": "display_data",
       "png": "[encoded data removed]",
       "text": [
        "<matplotlib.figure.Figure at 0x7fb8e707ae90>"
       ]
      }
     ],
     "prompt_number": 40
    },
    {
     "cell_type": "markdown",
     "metadata": {},
     "source": [
      "- What's the performance that you are seeing?\n",
      "\n",
      "- How does it evolve when using different threads? Why it scales very similarly than the polynomial evaluation?\n",
      "\n",
      "- Could you have a guess at the memory bandwidth of this machine?"
     ]
    },
    {
     "cell_type": "markdown",
     "metadata": {},
     "source": [
      "# Efficient data structures"
     ]
    },
    {
     "cell_type": "markdown",
     "metadata": {},
     "source": [
      "## Exercise 7: Using multithreading with bcolz"
     ]
    },
    {
     "cell_type": "markdown",
     "metadata": {},
     "source": [
      "bcolz has support for multithreading out of the box.\n",
      "Both underlying numexpr and Blosc do accept multithreading operation, so let's play the game:"
     ]
    },
    {
     "cell_type": "code",
     "collapsed": false,
     "input": [
      "import bcolz\n",
      "dsetname = '10m'  # change that to '10m' for the 10 million point dataset\n",
      "blzdset = 'ml-%s.blz' % dsetname\n",
      "t0 = time()\n",
      "zlens = bcolz.ctable(rootdir=blzdset).copy()  # get a copy in-memory\n",
      "print(\"Time for loading the dataframe: %.2f\" % (time()-t0))\n",
      "print(\"Info for zlens:\", zlens)"
     ],
     "language": "python",
     "metadata": {},
     "outputs": [
      {
       "output_type": "stream",
       "stream": "stdout",
       "text": [
        "Time for loading the dataframe: 18.34\n",
        "('Info for zlens:', ctable((10000054,), [('movie_id', '<i8'), ('title', 'S100'), ('genres', 'S60'), ('user_id', '<i8'), ('rating', '<f8'), ('unix_timestamp', '<i8')])\n",
        "  nbytes: 1.79 GB; cbytes: 76.80 MB; ratio: 23.84\n",
        "  cparams := cparams(clevel=5, shuffle=True, cname='blosclz')\n",
        "[ (1, 'Toy Story (1995)', 'Adventure|Animation|Children|Comedy|Fantasy', 5, 1.0, 857911264)\n",
        " (1, 'Toy Story (1995)', 'Adventure|Animation|Children|Comedy|Fantasy', 14, 3.0, 1133572007)\n",
        " (1, 'Toy Story (1995)', 'Adventure|Animation|Children|Comedy|Fantasy', 18, 3.0, 1111545931)\n",
        " ...,\n",
        " (65133, 'Blackadder Back & Forth (1999)', 'Comedy', 40570, 2.0, 1231055397)\n",
        " (65133, 'Blackadder Back & Forth (1999)', 'Comedy', 45430, 2.5, 1231105425)\n",
        " (65133, 'Blackadder Back & Forth (1999)', 'Comedy', 68151, 5.0, 1231129793)])\n"
       ]
      }
     ],
     "prompt_number": 41
    },
    {
     "cell_type": "code",
     "collapsed": false,
     "input": [
      "# Do the queries with a different number of threads each time\n",
      "nthreads = 16    # replace 4 by the number of threads you want\n",
      "blztimes = []\n",
      "for i in range(nthreads):\n",
      "    bcolz.set_nthreads(i+1)\n",
      "    t0 = time()\n",
      "    result = [r.user_id for r in zlens.where(\n",
      "        \"(title == 'Tom and Huck (1995)') & (rating == 5)\", outcols=['user_id'])]\n",
      "    blztimes.append(round(time()-t0, 3))\n",
      "print blztimes"
     ],
     "language": "python",
     "metadata": {},
     "outputs": [
      {
       "output_type": "stream",
       "stream": "stdout",
       "text": [
        "[0.435, 0.642, 0.643, 0.458, 0.52, 0.776, 0.59, 0.48, 0.808, 0.469, 0.796, 0.872, 0.814, 0.745, 1.095, 0.998]\n"
       ]
      }
     ],
     "prompt_number": 45
    },
    {
     "cell_type": "code",
     "collapsed": false,
     "input": [
      "# plot bars\n",
      "bar_labels = [str(i+1) for i in range(nthreads)]\n",
      "plt.xlabel('number of threads')\n",
      "plt.ylabel('time')\n",
      "y_pos = np.arange(nthreads)\n",
      "plt.xticks(y_pos, bar_labels, fontsize=14)\n",
      "bars = plt.bar(y_pos, blztimes, align='center')"
     ],
     "language": "python",
     "metadata": {},
     "outputs": [
      {
       "metadata": {},
       "output_type": "display_data",
       "png": "[encoded data removed]",
       "text": [
        "<matplotlib.figure.Figure at 0x7fb8ee2bdcd0>"
       ]
      }
     ],
     "prompt_number": 46
    },
    {
     "cell_type": "markdown",
     "metadata": {},
     "source": [
      "- Do you see any speed-up?  How much?  Is that what you expected?\n",
      "- Which is the maximum number of threads until they stop accelerating the query?"
     ]
    },
    {
     "cell_type": "markdown",
     "metadata": {},
     "source": [
      "## Exercise 8: Checking different compressors inside Blosc"
     ]
    },
    {
     "cell_type": "markdown",
     "metadata": {},
     "source": [
      "Blosc has support for different compressors internally, namely:\n",
      "\n",
      "**blosclz, lz4, lz4hc, snappy, zlib**\n",
      "\n",
      "Give them a quick go and tell which one achieves better:\n",
      "\n",
      "1. Compression ratio\n",
      "\n",
      "2. Speed\n",
      "\n",
      "3. Compression / Speed\n",
      "\n",
      "by using the next code:"
     ]
    },
    {
     "cell_type": "code",
     "collapsed": false,
     "input": [
      "# Do the queries with a different compressors\n",
      "compressors = ['blosclz', 'lz4', 'lz4hc', 'snappy', 'zlib']\n",
      "comptimes = []\n",
      "compsizes = []\n",
      "nthreads = 4   # play with different numbers\n",
      "clevel = 5     # play with different compression levels (0-9)\n",
      "for cname in compressors:\n",
      "    bcolz.set_nthreads(nthreads)\n",
      "    cparams = bcolz.cparams(cname=cname, clevel=clevel)\n",
      "    czlens = zlens.copy(cparams=cparams)\n",
      "    compsizes.append(round(czlens.cbytes / 2.**20, 2))  # size in MB\n",
      "    t0 = time()\n",
      "    result = [r.user_id for r in czlens.where(\n",
      "        \"(title == 'Tom and Huck (1995)') & (rating == 5)\", outcols=['user_id'])]\n",
      "    comptimes.append(round(time()-t0, 3))\n",
      "print comptimes, compsizes"
     ],
     "language": "python",
     "metadata": {},
     "outputs": [
      {
       "output_type": "stream",
       "stream": "stdout",
       "text": [
        "[1.151, 0.707, 0.517, 0.95, 1.807] [76.8, 74.45, 66.23, 1599.09, 62.6]\n"
       ]
      }
     ],
     "prompt_number": 47
    },
    {
     "cell_type": "code",
     "collapsed": false,
     "input": [
      "# plot bars\n",
      "plt.title(\"nthreads=%d, clevel=%d\" % (nthreads, clevel))\n",
      "plt.ylabel('time')\n",
      "y_pos = np.arange(len(compressors))\n",
      "plt.xticks(y_pos, compressors, fontsize=14)\n",
      "bars = plt.bar(y_pos, comptimes, align='center', color='b')"
     ],
     "language": "python",
     "metadata": {},
     "outputs": [
      {
       "metadata": {},
       "output_type": "display_data",
       "png": "[encoded data removed]",
       "text": [
        "<matplotlib.figure.Figure at 0x7fb8edab0090>"
       ]
      }
     ],
     "prompt_number": 48
    },
    {
     "cell_type": "code",
     "collapsed": false,
     "input": [
      "plt.title(\"nthreads=%d, clevel=%d\" % (nthreads, clevel))\n",
      "plt.ylabel('size (MB)')\n",
      "y_pos = np.arange(len(compressors))\n",
      "plt.xticks(y_pos, compressors, fontsize=14)\n",
      "bars = plt.bar(y_pos, compsizes, align='center', color='g')"
     ],
     "language": "python",
     "metadata": {},
     "outputs": [
      {
       "metadata": {},
       "output_type": "display_data",
       "png": "[encoded data removed]",
       "text": [
        "<matplotlib.figure.Figure at 0x7fb8ee2d49d0>"
       ]
      }
     ],
     "prompt_number": 49
    },
    {
     "cell_type": "markdown",
     "metadata": {},
     "source": [
      "- Which number of threads gives the best results for the maximum compression ratio?  And for the maximum speed?"
     ]
    },
    {
     "cell_type": "markdown",
     "metadata": {},
     "source": [
      "## Exercise 9: Dealing with large datasets"
     ]
    },
    {
     "cell_type": "markdown",
     "metadata": {},
     "source": [
      "** Note: ** The next exercise does consume pretty important amounts of memory, so please do this exercise only in case you using the 'Big Iron' machine.  You have been warned!\n",
      "\n",
      "Go back to exercise 7 and change the line:\n",
      "\n",
      "`dsetname = '1m'`\n",
      "\n",
      "by:\n",
      "\n",
      "`dsetname = '10m'`\n",
      "\n",
      "And repeat the study of the previous exercises but using the dataset with 10 millions of rows.  In particular:\n",
      "\n",
      "- With the new 10m dataset, which is the number of threads which gives best performance?\n",
      "\n",
      "- How does the new scale affects to the different compressors?  Which is the one with the best compression / speed ratio now?"
     ]
    },
    {
     "cell_type": "code",
     "collapsed": false,
     "input": [],
     "language": "python",
     "metadata": {},
     "outputs": []
    }
   ],
   "metadata": {}
  }
 ]
}